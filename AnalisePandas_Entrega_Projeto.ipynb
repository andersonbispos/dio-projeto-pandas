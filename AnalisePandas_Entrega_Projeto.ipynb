{
  "nbformat": 4,
  "nbformat_minor": 0,
  "metadata": {
    "colab": {
      "name": "AnalisePandas-Entrega-Projeto.ipynb",
      "provenance": [],
      "collapsed_sections": [],
      "include_colab_link": true
    },
    "kernelspec": {
      "name": "python3",
      "display_name": "Python 3"
    },
    "language_info": {
      "name": "python"
    }
  },
  "cells": [
    {
      "cell_type": "markdown",
      "metadata": {
        "id": "view-in-github",
        "colab_type": "text"
      },
      "source": [
        "<a href=\"https://colab.research.google.com/github/andersonbispos/dio-projeto-pandas/blob/master/AnalisePandas_Entrega_Projeto.ipynb\" target=\"_parent\"><img src=\"https://colab.research.google.com/assets/colab-badge.svg\" alt=\"Open In Colab\"/></a>"
      ]
    },
    {
      "cell_type": "markdown",
      "metadata": {
        "id": "ePMrg21yhZEL"
      },
      "source": [
        "# Projeto de Conclusão do Curso Análise de Dados com Pandas\n",
        "\n",
        "## Datasets\n",
        "\n",
        "[Aracaju](https://github.com/andersonbispos/dio-projeto-pandas/blob/master/datasets/Aracaju.xlsx)\n",
        "[Fortaleza](https://github.com/andersonbispos/dio-projeto-pandas/blob/master/datasets/Fortaleza.xlsx)\n",
        "[Natal](https://github.com/andersonbispos/dio-projeto-pandas/blob/master/datasets/Natal.xlsx)\n",
        "[Recife](https://github.com/andersonbispos/dio-projeto-pandas/blob/master/datasets/Recife.xlsx)\n",
        "[Salvador](https://github.com/andersonbispos/dio-projeto-pandas/blob/master/datasets/Salvador.xlsx)\n",
        "\n",
        "\n"
      ]
    },
    {
      "cell_type": "markdown",
      "metadata": {
        "id": "Zh5Zq-tiiLLQ"
      },
      "source": [
        "## Carregando nos dados"
      ]
    },
    {
      "cell_type": "code",
      "metadata": {
        "id": "YAGTzHj0hB-v"
      },
      "source": [
        ""
      ],
      "execution_count": null,
      "outputs": []
    }
  ]
}